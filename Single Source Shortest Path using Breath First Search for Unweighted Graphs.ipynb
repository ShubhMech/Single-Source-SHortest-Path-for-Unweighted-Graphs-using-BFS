{
 "cells": [
  {
   "cell_type": "code",
   "execution_count": 17,
   "id": "8330d4e2-f701-4bda-9a6c-6a75ce60b9ca",
   "metadata": {},
   "outputs": [
    {
     "name": "stdout",
     "output_type": "stream",
     "text": [
      "Path is : ['a']\n",
      "Node is : a\n",
      "New Path is : ['a']\n",
      "Queue is : [['a', 'b']]\n",
      "New Path is : ['a']\n",
      "Queue is : [['a', 'b'], ['a', 'c']]\n",
      "Path is : ['a', 'b']\n",
      "Node is : b\n",
      "New Path is : ['a', 'b']\n",
      "Queue is : [['a', 'c'], ['a', 'b', 'd']]\n",
      "New Path is : ['a', 'b']\n",
      "Queue is : [['a', 'c'], ['a', 'b', 'd'], ['a', 'b', 'g']]\n",
      "Path is : ['a', 'c']\n",
      "Node is : c\n",
      "New Path is : ['a', 'c']\n",
      "Queue is : [['a', 'b', 'd'], ['a', 'b', 'g'], ['a', 'c', 'd']]\n",
      "New Path is : ['a', 'c']\n",
      "Queue is : [['a', 'b', 'd'], ['a', 'b', 'g'], ['a', 'c', 'd'], ['a', 'c', 'e']]\n",
      "Path is : ['a', 'b', 'd']\n",
      "Node is : d\n",
      "New Path is : ['a', 'b', 'd']\n",
      "Queue is : [['a', 'b', 'g'], ['a', 'c', 'd'], ['a', 'c', 'e'], ['a', 'b', 'd', 'f']]\n",
      "Path is : ['a', 'b', 'g']\n",
      "Node is : g\n",
      "True\n",
      "['a', 'b', 'g']\n"
     ]
    }
   ],
   "source": [
    "class Graph:\n",
    "    def __init__(self, gdict=None):\n",
    "        if gdict is None:\n",
    "            gdict = {}\n",
    "        self.gdict = gdict\n",
    "    \n",
    "    def bfs_(self, start, end):\n",
    "        queue = []\n",
    "        queue.append([start])\n",
    "        while queue:\n",
    "            path = queue.pop(0)\n",
    "            print(\"Path is :\",path)\n",
    "            node = path[-1]\n",
    "            print(\"Node is :\",node)\n",
    "            if node == end:\n",
    "                print('True')\n",
    "                return path\n",
    "            for adjacent in self.gdict.get(node, []):\n",
    "                new_path = list(path)\n",
    "                print(\"New Path is :\",new_path)\n",
    "                new_path.append(adjacent)\n",
    "                queue.append(new_path)\n",
    "                print(\"Queue is :\",queue)\n",
    "                \n",
    "                \n",
    "    def dfs(self, vertex):\n",
    "        visited= [vertex]\n",
    "        queue= [vertex]\n",
    "        \n",
    "        while queue:\n",
    "            deVertex= queue.pop()\n",
    "            print(deVertex)\n",
    "            if deVertex in self.gdict.keys():\n",
    "                for connecting_v in self.gdict[deVertex]:\n",
    "                    if connecting_v not in visited:\n",
    "                        visited.append(connecting_v)\n",
    "                        queue.append(connecting_v)\n",
    "                        \n",
    "            else: \n",
    "                continue\n",
    "                \n",
    "                \n",
    "            \n",
    "    def bfs(self, vertex):\n",
    "        visited= [vertex]\n",
    "        queue= [vertex]\n",
    "        \n",
    "        while queue:\n",
    "            deVertex= queue.pop(0)\n",
    "            print(deVertex)\n",
    "            if deVertex in self.gdict.keys():\n",
    "                for connecting_v in self.gdict[deVertex]:\n",
    "                    if connecting_v not in visited:\n",
    "                        visited.append(connecting_v)\n",
    "                        queue.append(connecting_v)\n",
    "                        \n",
    "            else: \n",
    "                continue\n",
    "                \n",
    "                \n",
    "\n",
    "customDict = { \"a\" : [\"b\", \"c\"],\n",
    "               \"b\" : [\"d\", \"g\"],\n",
    "               \"c\" : [\"d\", \"e\"],\n",
    "               \"d\" : [\"f\"],\n",
    "               \"e\" : [\"f\"],\n",
    "               \"g\" : [\"f\"]\n",
    "            }\n",
    "\n",
    "g = Graph(customDict)\n",
    "print(g.bfs_(\"a\", \"g\"))"
   ]
  },
  {
   "cell_type": "code",
   "execution_count": 19,
   "id": "1247cf76-e7df-4fa2-9cae-cf5b331cd0b6",
   "metadata": {},
   "outputs": [
    {
     "name": "stdout",
     "output_type": "stream",
     "text": [
      "a\n",
      "b\n",
      "c\n",
      "d\n",
      "g\n",
      "e\n",
      "f\n"
     ]
    }
   ],
   "source": [
    "g.bfs('a')"
   ]
  },
  {
   "cell_type": "code",
   "execution_count": null,
   "id": "1538e8a0-21b5-478a-aa52-631a898b68c7",
   "metadata": {},
   "outputs": [],
   "source": []
  },
  {
   "cell_type": "code",
   "execution_count": null,
   "id": "c7153760-42ab-400e-ad8a-cf3dc1d14c11",
   "metadata": {},
   "outputs": [],
   "source": []
  }
 ],
 "metadata": {
  "kernelspec": {
   "display_name": "Python 3",
   "language": "python",
   "name": "python3"
  },
  "language_info": {
   "codemirror_mode": {
    "name": "ipython",
    "version": 3
   },
   "file_extension": ".py",
   "mimetype": "text/x-python",
   "name": "python",
   "nbconvert_exporter": "python",
   "pygments_lexer": "ipython3",
   "version": "3.8.5"
  }
 },
 "nbformat": 4,
 "nbformat_minor": 5
}
