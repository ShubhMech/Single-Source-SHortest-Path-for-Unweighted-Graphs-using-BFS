{
 "cells": [
  {
   "cell_type": "code",
   "execution_count": 435,
   "id": "6733f87e-537a-4634-b8e1-a82406b234c4",
   "metadata": {},
   "outputs": [],
   "source": [
    "class Graph:\n",
    "    def __init__(self,dict=None):\n",
    "        if dict== None:\n",
    "            dict= {}\n",
    "        \n",
    "        self.dict= dict\n",
    "        \n",
    "    def add_edge(self, vertex, edge):\n",
    "        self.dict[vertex].append(edge)\n",
    "        \n",
    "        \n",
    "    def bfs(self, vertex):\n",
    "        visited= [vertex]\n",
    "        queue= [vertex]\n",
    "        \n",
    "        while queue:\n",
    "            deVertex= queue.pop(0)\n",
    "            print(deVertex)\n",
    "            if deVertex in self.dict.keys():\n",
    "                for connecting_v in self.dict[deVertex]:\n",
    "                    if connecting_v not in visited:\n",
    "                        visited.append(connecting_v)\n",
    "                        queue.append(connecting_v)\n",
    "                        \n",
    "            else: \n",
    "                continue\n",
    "                    \n",
    "                    \n",
    "        \n",
    "    def dfs(self, vertex):\n",
    "        visited= [vertex]\n",
    "        queue= [vertex]\n",
    "        \n",
    "        while queue:\n",
    "            deVertex= queue.pop()\n",
    "            print(deVertex)\n",
    "            if deVertex in self.dict.keys():\n",
    "                for connecting_v in self.dict[deVertex]:\n",
    "                    if connecting_v not in visited:\n",
    "                        visited.append(connecting_v)\n",
    "                        queue.append(connecting_v)\n",
    "                        \n",
    "            else: \n",
    "                continue\n",
    "                \n",
    "                \n",
    "    def top_util(self,v,visited,stack):\n",
    "        visited.append(v)\n",
    "        for i in self.dict[v]:\n",
    "            if i not in visited:\n",
    "                self.top_util(i, visited,stack)\n",
    "        \n",
    "        stack.insert(0,v)\n",
    "        \n",
    "        \n",
    "    def topological_sort(self):\n",
    "        visited= []\n",
    "        stack=[]\n",
    "        \n",
    "        for i in self.dict.keys():\n",
    "            if i not in visited:\n",
    "                self.top_util(i,visited,stack)\n",
    "                \n",
    "        print(stack)\n",
    "                \n",
    "                \n",
    "                \n",
    "    def bfs_(self, start, end):\n",
    "        queue = []\n",
    "        queue.append([start])\n",
    "        while queue:\n",
    "            path = queue.pop(0)\n",
    "            print(\"Path is :\",path)\n",
    "            node = path[-1]\n",
    "            print(\"Node is :\",node)\n",
    "            if node == end:\n",
    "                print('True')\n",
    "                return path\n",
    "            for adjacent in self.dict.get(node, []):\n",
    "                new_path = list(path)\n",
    "                print(\"New Path is :\",new_path)\n",
    "                new_path.append(adjacent)\n",
    "                queue.append(new_path)\n",
    "                print(\"Queue is :\",queue)\n",
    "                \n",
    "                \n",
    "                \n",
    "                \n",
    "\n",
    "                \n",
    "        \n",
    "         \n",
    "        \n",
    "dict1= {'a':['b', 'c'],'b':['a','d','e'],'c':['a','e'],'d':['b','e','f'],'e':['d','f'], 'f':['d','e']}\n",
    "        \n",
    "ob1= Graph(dict1)"
   ]
  },
  {
   "cell_type": "code",
   "execution_count": 436,
   "id": "4a25abd5-38d8-4dbb-acd1-e5e70c61c63b",
   "metadata": {},
   "outputs": [],
   "source": [
    "dict11=((ob1.dict))"
   ]
  },
  {
   "cell_type": "code",
   "execution_count": 437,
   "id": "ee128eb9-e4d9-416a-9cfa-e758e98d0034",
   "metadata": {},
   "outputs": [
    {
     "data": {
      "text/plain": [
       "['b', 'c']"
      ]
     },
     "execution_count": 437,
     "metadata": {},
     "output_type": "execute_result"
    }
   ],
   "source": [
    "dict11.get('a')"
   ]
  },
  {
   "cell_type": "code",
   "execution_count": 438,
   "id": "920b632c-b4f2-4654-8242-9fca388b65e2",
   "metadata": {},
   "outputs": [
    {
     "data": {
      "text/plain": [
       "['a', 'd', 'e']"
      ]
     },
     "execution_count": 438,
     "metadata": {},
     "output_type": "execute_result"
    }
   ],
   "source": [
    "dict11.get('b')"
   ]
  },
  {
   "cell_type": "code",
   "execution_count": 439,
   "id": "334ed978-8779-4dfc-ac0c-71068908515c",
   "metadata": {},
   "outputs": [],
   "source": [
    "ob1.add_edge('a','e')"
   ]
  },
  {
   "cell_type": "code",
   "execution_count": 440,
   "id": "6f25e27c-ca3b-4e8e-8fbb-13c1ab7bc6af",
   "metadata": {},
   "outputs": [
    {
     "data": {
      "text/plain": [
       "{'a': ['b', 'c', 'e'],\n",
       " 'b': ['a', 'd', 'e'],\n",
       " 'c': ['a', 'e'],\n",
       " 'd': ['b', 'e', 'f'],\n",
       " 'e': ['d', 'f'],\n",
       " 'f': ['d', 'e']}"
      ]
     },
     "execution_count": 440,
     "metadata": {},
     "output_type": "execute_result"
    }
   ],
   "source": [
    "ob1.dict"
   ]
  },
  {
   "cell_type": "code",
   "execution_count": 441,
   "id": "e8b5f67f-e073-41b5-8b41-bef7659a9e7d",
   "metadata": {},
   "outputs": [],
   "source": [
    "ob2= Graph()"
   ]
  },
  {
   "cell_type": "code",
   "execution_count": 442,
   "id": "2da34058-d82f-4068-893b-fa3ce4820a18",
   "metadata": {},
   "outputs": [
    {
     "data": {
      "text/plain": [
       "{}"
      ]
     },
     "execution_count": 442,
     "metadata": {},
     "output_type": "execute_result"
    }
   ],
   "source": [
    "ob2.dict"
   ]
  },
  {
   "cell_type": "code",
   "execution_count": 443,
   "id": "f2e264dc-d615-4513-b300-a5be69d92bda",
   "metadata": {},
   "outputs": [],
   "source": [
    "ob2.dict['a']= ['b']"
   ]
  },
  {
   "cell_type": "code",
   "execution_count": 444,
   "id": "a8b82d8f-0382-4223-a394-960405bf3e88",
   "metadata": {},
   "outputs": [
    {
     "data": {
      "text/plain": [
       "{'a': ['b']}"
      ]
     },
     "execution_count": 444,
     "metadata": {},
     "output_type": "execute_result"
    }
   ],
   "source": [
    "ob2.dict"
   ]
  },
  {
   "cell_type": "code",
   "execution_count": 445,
   "id": "292cc71e-de6e-492e-986e-3068fb3b0091",
   "metadata": {},
   "outputs": [],
   "source": [
    "ob2.add_edge('a','c')"
   ]
  },
  {
   "cell_type": "code",
   "execution_count": 446,
   "id": "f6576360-43c2-47a0-a7fe-4efffd33288f",
   "metadata": {},
   "outputs": [
    {
     "data": {
      "text/plain": [
       "{'a': ['b', 'c']}"
      ]
     },
     "execution_count": 446,
     "metadata": {},
     "output_type": "execute_result"
    }
   ],
   "source": [
    "ob2.dict"
   ]
  },
  {
   "cell_type": "code",
   "execution_count": 447,
   "id": "188a783f-594b-4fd7-9bca-31939cd6ee66",
   "metadata": {},
   "outputs": [
    {
     "name": "stdout",
     "output_type": "stream",
     "text": [
      "a\n",
      "b\n",
      "c\n",
      "e\n",
      "d\n",
      "f\n"
     ]
    }
   ],
   "source": [
    "ob1.bfs('a')"
   ]
  },
  {
   "cell_type": "code",
   "execution_count": 448,
   "id": "fb9c1670-6b51-45ee-841b-49c9cb1e4489",
   "metadata": {},
   "outputs": [
    {
     "name": "stdout",
     "output_type": "stream",
     "text": [
      "a\n",
      "b\n",
      "c\n"
     ]
    }
   ],
   "source": [
    "ob2.bfs('a')"
   ]
  },
  {
   "cell_type": "code",
   "execution_count": 449,
   "id": "23d61475-59fc-4b9b-8514-af57925608b8",
   "metadata": {},
   "outputs": [],
   "source": [
    "ob2.dict['d']= ['e']"
   ]
  },
  {
   "cell_type": "code",
   "execution_count": 450,
   "id": "57d41272-a91b-439e-98ee-1a67f5ad477a",
   "metadata": {},
   "outputs": [
    {
     "name": "stdout",
     "output_type": "stream",
     "text": [
      "d\n",
      "e\n"
     ]
    }
   ],
   "source": [
    "ob2.bfs('d')"
   ]
  },
  {
   "cell_type": "code",
   "execution_count": 451,
   "id": "d2639d6f-d099-4f5d-8d6a-59c3a63a0042",
   "metadata": {},
   "outputs": [
    {
     "name": "stdout",
     "output_type": "stream",
     "text": [
      "a\n",
      "e\n",
      "f\n",
      "d\n",
      "c\n",
      "b\n"
     ]
    }
   ],
   "source": [
    "ob1.dfs('a')"
   ]
  },
  {
   "cell_type": "code",
   "execution_count": 452,
   "id": "03a9ea08-e45f-4eab-bcb7-090e331b4525",
   "metadata": {},
   "outputs": [
    {
     "name": "stdout",
     "output_type": "stream",
     "text": [
      "['a', 'c', 'b', 'd', 'e', 'f']\n"
     ]
    }
   ],
   "source": [
    "ob1.topological_sort()"
   ]
  },
  {
   "cell_type": "code",
   "execution_count": 454,
   "id": "6be7a234-dc25-4408-9a07-b10b15005ffc",
   "metadata": {},
   "outputs": [
    {
     "name": "stdout",
     "output_type": "stream",
     "text": [
      "Path is : ['a']\n",
      "Node is : a\n",
      "New Path is : ['a']\n",
      "Queue is : [['a', 'b']]\n",
      "New Path is : ['a']\n",
      "Queue is : [['a', 'b'], ['a', 'c']]\n",
      "New Path is : ['a']\n",
      "Queue is : [['a', 'b'], ['a', 'c'], ['a', 'e']]\n",
      "Path is : ['a', 'b']\n",
      "Node is : b\n",
      "New Path is : ['a', 'b']\n",
      "Queue is : [['a', 'c'], ['a', 'e'], ['a', 'b', 'a']]\n",
      "New Path is : ['a', 'b']\n",
      "Queue is : [['a', 'c'], ['a', 'e'], ['a', 'b', 'a'], ['a', 'b', 'd']]\n",
      "New Path is : ['a', 'b']\n",
      "Queue is : [['a', 'c'], ['a', 'e'], ['a', 'b', 'a'], ['a', 'b', 'd'], ['a', 'b', 'e']]\n",
      "Path is : ['a', 'c']\n",
      "Node is : c\n",
      "New Path is : ['a', 'c']\n",
      "Queue is : [['a', 'e'], ['a', 'b', 'a'], ['a', 'b', 'd'], ['a', 'b', 'e'], ['a', 'c', 'a']]\n",
      "New Path is : ['a', 'c']\n",
      "Queue is : [['a', 'e'], ['a', 'b', 'a'], ['a', 'b', 'd'], ['a', 'b', 'e'], ['a', 'c', 'a'], ['a', 'c', 'e']]\n",
      "Path is : ['a', 'e']\n",
      "Node is : e\n",
      "New Path is : ['a', 'e']\n",
      "Queue is : [['a', 'b', 'a'], ['a', 'b', 'd'], ['a', 'b', 'e'], ['a', 'c', 'a'], ['a', 'c', 'e'], ['a', 'e', 'd']]\n",
      "New Path is : ['a', 'e']\n",
      "Queue is : [['a', 'b', 'a'], ['a', 'b', 'd'], ['a', 'b', 'e'], ['a', 'c', 'a'], ['a', 'c', 'e'], ['a', 'e', 'd'], ['a', 'e', 'f']]\n",
      "Path is : ['a', 'b', 'a']\n",
      "Node is : a\n",
      "New Path is : ['a', 'b', 'a']\n",
      "Queue is : [['a', 'b', 'd'], ['a', 'b', 'e'], ['a', 'c', 'a'], ['a', 'c', 'e'], ['a', 'e', 'd'], ['a', 'e', 'f'], ['a', 'b', 'a', 'b']]\n",
      "New Path is : ['a', 'b', 'a']\n",
      "Queue is : [['a', 'b', 'd'], ['a', 'b', 'e'], ['a', 'c', 'a'], ['a', 'c', 'e'], ['a', 'e', 'd'], ['a', 'e', 'f'], ['a', 'b', 'a', 'b'], ['a', 'b', 'a', 'c']]\n",
      "New Path is : ['a', 'b', 'a']\n",
      "Queue is : [['a', 'b', 'd'], ['a', 'b', 'e'], ['a', 'c', 'a'], ['a', 'c', 'e'], ['a', 'e', 'd'], ['a', 'e', 'f'], ['a', 'b', 'a', 'b'], ['a', 'b', 'a', 'c'], ['a', 'b', 'a', 'e']]\n",
      "Path is : ['a', 'b', 'd']\n",
      "Node is : d\n",
      "True\n"
     ]
    },
    {
     "data": {
      "text/plain": [
       "['a', 'b', 'd']"
      ]
     },
     "execution_count": 454,
     "metadata": {},
     "output_type": "execute_result"
    }
   ],
   "source": [
    "ob1.bfs_('a','d')"
   ]
  },
  {
   "cell_type": "code",
   "execution_count": null,
   "id": "e4b25883-c87c-42c7-af5d-b1b5bc57bb02",
   "metadata": {},
   "outputs": [],
   "source": []
  },
  {
   "cell_type": "code",
   "execution_count": null,
   "id": "496bbbcf-ed9b-4dd8-9f7d-d7ff151a05e4",
   "metadata": {},
   "outputs": [],
   "source": []
  },
  {
   "cell_type": "code",
   "execution_count": null,
   "id": "957b3efe-e64b-4cbe-bc45-99eedc8bd52b",
   "metadata": {},
   "outputs": [],
   "source": []
  },
  {
   "cell_type": "code",
   "execution_count": null,
   "id": "9e5da3e3-dc1e-4a1b-8446-490760157d00",
   "metadata": {},
   "outputs": [],
   "source": []
  },
  {
   "cell_type": "code",
   "execution_count": null,
   "id": "8dd68768-a753-4416-a7a3-775a88052deb",
   "metadata": {},
   "outputs": [],
   "source": []
  },
  {
   "cell_type": "code",
   "execution_count": null,
   "id": "6f78fe97-1065-415b-8aa6-eecf69604406",
   "metadata": {},
   "outputs": [],
   "source": []
  },
  {
   "cell_type": "code",
   "execution_count": null,
   "id": "a0297092-5cf5-43f4-8142-62ed90fa30ec",
   "metadata": {},
   "outputs": [],
   "source": []
  },
  {
   "cell_type": "code",
   "execution_count": null,
   "id": "559a5ab9-de66-4b69-ae39-b745fef541be",
   "metadata": {},
   "outputs": [],
   "source": []
  },
  {
   "cell_type": "code",
   "execution_count": null,
   "id": "ec70b491-42cf-41eb-9046-8374b540fb02",
   "metadata": {},
   "outputs": [],
   "source": []
  },
  {
   "cell_type": "code",
   "execution_count": null,
   "id": "c7073d79-1672-40da-8947-db45cdc7e8d8",
   "metadata": {},
   "outputs": [],
   "source": []
  },
  {
   "cell_type": "code",
   "execution_count": null,
   "id": "73cc062b-dc77-4020-b947-322ae08acd3f",
   "metadata": {},
   "outputs": [],
   "source": []
  },
  {
   "cell_type": "code",
   "execution_count": null,
   "id": "c8c53748-3e04-42e5-a4dc-a33a571579d6",
   "metadata": {},
   "outputs": [],
   "source": []
  },
  {
   "cell_type": "code",
   "execution_count": null,
   "id": "ca689f7c-f855-4bac-ba2e-1582881d303e",
   "metadata": {},
   "outputs": [],
   "source": []
  },
  {
   "cell_type": "code",
   "execution_count": null,
   "id": "d92110ca-eade-400d-b3b9-8039234cfa28",
   "metadata": {},
   "outputs": [],
   "source": []
  },
  {
   "cell_type": "code",
   "execution_count": null,
   "id": "856915dc-be87-4754-8d0d-9aab9d36fd84",
   "metadata": {},
   "outputs": [],
   "source": []
  }
 ],
 "metadata": {
  "kernelspec": {
   "display_name": "Python 3",
   "language": "python",
   "name": "python3"
  },
  "language_info": {
   "codemirror_mode": {
    "name": "ipython",
    "version": 3
   },
   "file_extension": ".py",
   "mimetype": "text/x-python",
   "name": "python",
   "nbconvert_exporter": "python",
   "pygments_lexer": "ipython3",
   "version": "3.8.5"
  }
 },
 "nbformat": 4,
 "nbformat_minor": 5
}
